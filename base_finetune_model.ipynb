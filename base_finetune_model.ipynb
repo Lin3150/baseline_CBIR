{
  "nbformat": 4,
  "nbformat_minor": 0,
  "metadata": {
    "colab": {
      "name": "base_finetune_model.ipynb",
      "provenance": [],
      "collapsed_sections": [],
      "machine_shape": "hm"
    },
    "kernelspec": {
      "name": "python3",
      "display_name": "Python 3"
    },
    "accelerator": "GPU"
  },
  "cells": [
    {
      "cell_type": "markdown",
      "metadata": {
        "id": "PPIEHUIw6wEG"
      },
      "source": [
        ""
      ]
    },
    {
      "cell_type": "markdown",
      "metadata": {
        "id": "xUCExaY16q3T"
      },
      "source": [
        "**数据集下载**"
      ]
    },
    {
      "cell_type": "code",
      "metadata": {
        "id": "d2kAV9WtKTLY"
      },
      "source": [
        "!wget https://digix-algo-challenge.obs.cn-east-2.myhuaweicloud.com/2020/cv/6rKDTsB6sX8A1O2DA2IAq7TgHPdSPxJF/train_data.zip"
      ],
      "execution_count": null,
      "outputs": []
    },
    {
      "cell_type": "code",
      "metadata": {
        "id": "JIAT8DezRBJR"
      },
      "source": [
        "!unzip train_data.zip"
      ],
      "execution_count": null,
      "outputs": []
    },
    {
      "cell_type": "markdown",
      "metadata": {
        "id": "MmluX4mAf6kT"
      },
      "source": [
        "**文件头加载库**"
      ]
    },
    {
      "cell_type": "code",
      "metadata": {
        "id": "V9dR-rlJaBpz"
      },
      "source": [
        "from keras.callbacks import TensorBoard, ModelCheckpoint, ReduceLROnPlateau, EarlyStopping\n",
        "from keras.utils import np_utils\n",
        "from keras.optimizers import Adam\n",
        "import numpy as np\n",
        "import cv2\n",
        "from keras import backend\n",
        "from keras.preprocessing import image\n",
        "from keras.models import Model\n",
        "from keras.layers import Dense, GlobalAveragePooling2D, BatchNormalization\n",
        "from keras.layers import *\n",
        "from tensorflow.python.keras.utils import conv_utils\n",
        "from keras.applications.resnet50 import ResNet50\n",
        "from keras.preprocessing import image\n",
        "from keras.applications.resnet50 import preprocess_input, decode_predictions"
      ],
      "execution_count": null,
      "outputs": []
    },
    {
      "cell_type": "markdown",
      "metadata": {
        "id": "hoVF9h2kYMrd"
      },
      "source": [
        "**读取label.txt，使其转换为数据集**"
      ]
    },
    {
      "cell_type": "markdown",
      "metadata": {
        "id": "RkcP0o89bgpH"
      },
      "source": [
        "*参考CSDN博主「Bubbliiiing」的原创文章*\n",
        "*原文链接：https://blog.csdn.net/weixin_44791964/java/article/details/102779878*"
      ]
    },
    {
      "cell_type": "code",
      "metadata": {
        "id": "qhcyVOoVYWeT"
      },
      "source": [
        "def generate_arrays_from_file(label_file,batch_size):\n",
        "    n = len(label_file)\n",
        "    i = 0\n",
        "    while True:\n",
        "      X_train = []\n",
        "      Y_train = []\n",
        "      for b in range(batch_size):\n",
        "        if i==0:\n",
        "          #内部打乱\n",
        "          np.random.shuffle(label_file)\n",
        "        name = label_file[i].split(',')[0]\n",
        "        # 从文件中读取图像\n",
        "        img = image.load_img(\"train_data/\" + name, target_size=(224,224))\n",
        "        img = image.img_to_array(img)\n",
        "        img = np.expand_dims(img, axis=0)\n",
        "        img = preprocess_input(img)\n",
        "        X_train.append(img)\n",
        "        Y_train.append(label_file[i].split(',')[1])\n",
        "        # 读完一个周期后重新开始\n",
        "        i = (i+1) % n\n",
        "      X_train = np.array(X_train)\n",
        "      X_train = X_train.reshape(-1,224,224,3)\n",
        "      Y_train = np_utils.to_categorical(np.array(Y_train),num_classes=3097)  \n",
        "      yield (X_train, Y_train)"
      ],
      "execution_count": null,
      "outputs": []
    },
    {
      "cell_type": "markdown",
      "metadata": {
        "id": "jCuNRxWVfODZ"
      },
      "source": [
        "**数据集训练集验证集划分**"
      ]
    },
    {
      "cell_type": "code",
      "metadata": {
        "id": "Uw34IvhXfNMG"
      },
      "source": [
        "with open(\"train_data/label.txt\",\"r\") as f:\n",
        "  items = f.readlines()\n",
        "#外部打乱\n",
        "np.random.seed(10101)\n",
        "np.random.shuffle(items)\n",
        "#train_test_split\n",
        "num_val = int(len(items)*0.1)\n",
        "num_train = len(items) - num_val"
      ],
      "execution_count": null,
      "outputs": []
    },
    {
      "cell_type": "markdown",
      "metadata": {
        "id": "_EpU8ZcicAuh"
      },
      "source": [
        "**使用ResNet50模型，并在此上进行模型微调**"
      ]
    },
    {
      "cell_type": "code",
      "metadata": {
        "id": "1xAHPWT9uQTq"
      },
      "source": [
        "from google.colab import drive\n",
        "drive.mount('/content/drive')"
      ],
      "execution_count": null,
      "outputs": []
    },
    {
      "cell_type": "code",
      "metadata": {
        "id": "Yr2LybjKcAfq"
      },
      "source": [
        "# 首先构建不带分类器的预训练模型\n",
        "base_model = ResNet50(weights='imagenet', include_top=False)\n",
        "# 添加全局平均池化层\n",
        "x = base_model.output\n",
        "x = GlobalAveragePooling2D()(x)\n",
        "x = BatchNormalization()(x)\n",
        "# 添加一个全连接层\n",
        "x = Dense(4096, activation='relu')(x)\n",
        "x = BatchNormalization()(x)\n",
        "# 添加一个分类器，我们有3097个类\n",
        "predictions = Dense(3097, activation='softmax')(x)\n",
        "# 构建我们需要训练的完整模型\n",
        "model = Model(inputs=base_model.input, outputs=predictions)\n"
      ],
      "execution_count": null,
      "outputs": []
    },
    {
      "cell_type": "code",
      "metadata": {
        "id": "kS-6tgjcvJ15"
      },
      "source": [
        "for layer in model.layers[:143]:\n",
        "   layer.trainable = False\n",
        "for layer in model.layers[143:]:\n",
        "   layer.trainable = True"
      ],
      "execution_count": null,
      "outputs": []
    },
    {
      "cell_type": "code",
      "metadata": {
        "id": "6__CpAZLvIsI"
      },
      "source": [
        "# 编译模型（根据官方文档，一定要在锁层以后操作）\n",
        "#优化器的选择等参数暂不调整 optimizer = Adam(lr=1e-3),metrics = ['accuracy']\n",
        "model.compile(optimizer= Adam(lr=1e-4), loss='categorical_crossentropy')"
      ],
      "execution_count": null,
      "outputs": []
    },
    {
      "cell_type": "code",
      "metadata": {
        "id": "VSF3XuUY5rGV",
        "outputId": "58ad610f-479e-40d5-d464-561ad8508dbd",
        "colab": {
          "base_uri": "https://localhost:8080/",
          "height": 35
        }
      },
      "source": [
        "# 在新的数据集上训练几代\n",
        "checkpoint_period1 = ModelCheckpoint(\n",
        "                    \"./logs1/\" + 'ep{epoch:03d}-loss{loss:.3f}-val_loss{val_loss:.3f}.h5',\n",
        "                    monitor='acc', \n",
        "                    save_weights_only=False, \n",
        "                    save_best_only=True, \n",
        "                    period=3\n",
        "                   )\n",
        "# 学习率下降的方式，acc三次不下降就下降学习率继续训练\n",
        "reduce_lr = ReduceLROnPlateau(\n",
        "                monitor='acc', \n",
        "                factor=0.5, \n",
        "                patience=3, \n",
        "                verbose=1\n",
        "               )"
      ],
      "execution_count": null,
      "outputs": [
        {
          "output_type": "stream",
          "text": [
            "WARNING:tensorflow:`period` argument is deprecated. Please use `save_freq` to specify the frequency in number of batches seen.\n"
          ],
          "name": "stdout"
        }
      ]
    },
    {
      "cell_type": "code",
      "metadata": {
        "id": "u2l5ymYUgDTO"
      },
      "source": [
        "#batch_size调参参数\n",
        "batch_size = 64"
      ],
      "execution_count": null,
      "outputs": []
    },
    {
      "cell_type": "markdown",
      "metadata": {
        "id": "6l7KTPbZgVd9"
      },
      "source": [
        "**训练模型**"
      ]
    },
    {
      "cell_type": "code",
      "metadata": {
        "id": "CNaCOm5Me0rc"
      },
      "source": [
        "from PIL import ImageFile\n",
        "ImageFile.LOAD_TRUNCATED_IMAGES = True"
      ],
      "execution_count": null,
      "outputs": []
    },
    {
      "cell_type": "code",
      "metadata": {
        "id": "UYIoRjGZgTEX"
      },
      "source": [
        "model.fit(generate_arrays_from_file(items[:num_train],batch_size),\n",
        "          steps_per_epoch=max(1, num_train//batch_size),\n",
        "          validation_data=generate_arrays_from_file(items[num_train:],batch_size),\n",
        "          validation_steps=max(1, num_val//batch_size),\n",
        "          epochs=1,\n",
        "          initial_epoch=0,\n",
        "          callbacks=[checkpoint_period1, reduce_lr])"
      ],
      "execution_count": null,
      "outputs": []
    },
    {
      "cell_type": "code",
      "metadata": {
        "id": "p9Wp-vn5wkgX"
      },
      "source": [
        "for layer in model.layers[:100]:\n",
        "   layer.trainable = False\n",
        "for layer in model.layers[100:]:\n",
        "   layer.trainable = True"
      ],
      "execution_count": null,
      "outputs": []
    },
    {
      "cell_type": "code",
      "metadata": {
        "id": "-9PaoWbEcAK9"
      },
      "source": [
        "model.compile(optimizer= Adam(lr=1e-4), loss='categorical_crossentropy')"
      ],
      "execution_count": null,
      "outputs": []
    },
    {
      "cell_type": "code",
      "metadata": {
        "id": "zd75WVL0SgUB"
      },
      "source": [
        "#from keras.optimizers import SGD\n",
        "#model.compile(optimizer=SGD(lr=0.0003, momentum=0.9), loss='categorical_crossentropy')"
      ],
      "execution_count": null,
      "outputs": []
    },
    {
      "cell_type": "code",
      "metadata": {
        "id": "CNGrFyBo76WI"
      },
      "source": [
        "model.fit(generate_arrays_from_file(items[:num_train],batch_size),\n",
        "          steps_per_epoch=max(1, num_train//batch_size),\n",
        "          validation_data=generate_arrays_from_file(items[num_train:],batch_size),\n",
        "          validation_steps=max(1, num_val//batch_size),\n",
        "          epochs=4,\n",
        "          initial_epoch=0,\n",
        "          callbacks=[checkpoint_period1, reduce_lr])"
      ],
      "execution_count": null,
      "outputs": []
    },
    {
      "cell_type": "code",
      "metadata": {
        "id": "Y2DU9MMo78Gi"
      },
      "source": [
        "model.save('/content/drive/Shared drives/my_new_pan/5_resnet50_finetuned-4096-bn.h5')"
      ],
      "execution_count": null,
      "outputs": []
    },
    {
      "cell_type": "code",
      "metadata": {
        "id": "3TqgvzY-8Did"
      },
      "source": [
        "model.fit(generate_arrays_from_file(items[:num_train],batch_size),\n",
        "          steps_per_epoch=max(1, num_train//batch_size),\n",
        "          validation_data=generate_arrays_from_file(items[num_train:],batch_size),\n",
        "          validation_steps=max(1, num_val//batch_size),\n",
        "          epochs=5,\n",
        "          initial_epoch=0,\n",
        "          callbacks=[checkpoint_period1, reduce_lr])"
      ],
      "execution_count": null,
      "outputs": []
    },
    {
      "cell_type": "code",
      "metadata": {
        "id": "0VuiaMny8E8v"
      },
      "source": [
        "model.save('/content/drive/Shared drives/my_new_pan/10_resnet50_finetuned-4096-bn.h5')"
      ],
      "execution_count": null,
      "outputs": []
    },
    {
      "cell_type": "code",
      "metadata": {
        "id": "cbG5TDbY3GPI"
      },
      "source": [
        "#model.load_weights('/content/drive/Shared drives/my_new_pan/10_resnet50_finetuned5.h5')"
      ],
      "execution_count": null,
      "outputs": []
    }
  ]
}